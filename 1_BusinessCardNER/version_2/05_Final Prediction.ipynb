{
 "cells": [
  {
   "cell_type": "code",
   "execution_count": 5,
   "id": "e2e6887a-df53-49b6-8af0-60f8c29fca4a",
   "metadata": {},
   "outputs": [],
   "source": [
    "import cv2\n",
    "import Predicitions as pred"
   ]
  },
  {
   "cell_type": "code",
   "execution_count": 6,
   "id": "92892433-a315-4874-9142-f6bb3bf1fb96",
   "metadata": {},
   "outputs": [],
   "source": [
    "img = cv2.imread('./data/256.jpeg')\n",
    "height, width = img.shape[:2]\n",
    "\n",
    "max_width = 800\n",
    "max_height = 800\n",
    "\n",
    "scale = min(max_width / width, max_height / height, 1.0)  \n",
    "\n",
    "if scale < 1.0:\n",
    "    img = cv2.resize(img, (int(width * scale), int(height * scale)), interpolation=cv2.INTER_AREA)\n",
    "\n",
    "cv2.namedWindow('original', cv2.WINDOW_NORMAL)\n",
    "cv2.imshow('original', img)\n",
    "cv2.waitKey(0)\n",
    "cv2.destroyAllWindows()\n"
   ]
  },
  {
   "cell_type": "code",
   "execution_count": 7,
   "id": "0798d29e-6c46-4f62-951c-f89e87a3a795",
   "metadata": {},
   "outputs": [
    {
     "name": "stdout",
     "output_type": "stream",
     "text": [
      "{'NAME': ['Dr Khv Durga Rao'], 'ORG': ['Indian Space Research Organisation'], 'DES': ['Head'], 'PHONE': ['914023884541', '4232', '919440583027'], 'EMAIL': ['durgarao_khv@nrsc.gov.in', 'khvdurgarao@yahoo.com'], 'WEB': []}\n"
     ]
    }
   ],
   "source": [
    "img_results, entities = pred.getPredictions(img)\n",
    "\n",
    "print(entities)\n",
    "cv2.namedWindow('predictions', cv2.WINDOW_NORMAL)\n",
    "cv2.imshow('predictions',img_results)\n",
    "cv2.waitKey(0)\n",
    "cv2.destroyAllWindows()"
   ]
  },
  {
   "cell_type": "code",
   "execution_count": null,
   "id": "8771948a-cca6-4969-99df-34fdded48280",
   "metadata": {},
   "outputs": [],
   "source": []
  }
 ],
 "metadata": {
  "kernelspec": {
   "display_name": "Python 3 (ipykernel)",
   "language": "python",
   "name": "python3"
  },
  "language_info": {
   "codemirror_mode": {
    "name": "ipython",
    "version": 3
   },
   "file_extension": ".py",
   "mimetype": "text/x-python",
   "name": "python",
   "nbconvert_exporter": "python",
   "pygments_lexer": "ipython3",
   "version": "3.11.0"
  }
 },
 "nbformat": 4,
 "nbformat_minor": 5
}
